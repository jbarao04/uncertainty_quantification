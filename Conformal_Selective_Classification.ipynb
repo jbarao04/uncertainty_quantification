{
 "cells": [
  {
   "cell_type": "markdown",
   "metadata": {},
   "source": [
    "# Conformal Selective Classification for UQ"
   ]
  },
  {
   "cell_type": "markdown",
   "metadata": {},
   "source": [
    "### Pros:\n",
    "-Valid Coverage Guarantees\n",
    "\n",
    "-Versatility/Model Agnostic\n",
    "\n",
    "-User-Friendly Interpretations\n",
    "\n",
    "### Cons:\n",
    "-Computational expensive\n",
    "\n",
    "-Technical and Complex Implementation"
   ]
  },
  {
   "cell_type": "markdown",
   "metadata": {},
   "source": [
    "## Theoretical framework underpinning this method"
   ]
  },
  {
   "cell_type": "markdown",
   "metadata": {},
   "source": [
    "\n",
    "Conformal prediction helps us understand how reliable a machine learning model's predictions areis a reliable way. It works by looking at how well new predictions match with past data. If a prediction falls within a certain range that we expect, we can be confident it's accurate. This method gives us a way to see how sure we can be about the model's answers by providing a range of possible outcomes with a set level of confidence.\n",
    "\n",
    "Conformal Selective Classification is a method explored by Angelopoulos & Bates (2021), in which instead of just giving a single answer, it also tells us when to trust the model's prediction. The approach involves using past data to determine how well a prediction fits, and then deciding if the model’s confidence is high enough to make a decision. If the confidence is too low, the model might say it doesn’t have a reliable answer, helping to avoid mistakes and improving decision-making accuracy."
   ]
  },
  {
   "cell_type": "markdown",
   "metadata": {},
   "source": [
    "## Conformal Selective Prediction - Mathematical Approach\n",
    "\n",
    "### 1. Selective Risk Function\n",
    "The selective risk function calculates the proportion of incorrect predictions where the model’s confidence is at least $ \\lambda $.\n",
    "\n",
    "$$\n",
    "\\text{selective\\_risk}(\\lambda) = \\frac{\\sum_{i : \\text{cal\\_phats}_i \\geq \\lambda} \\mathbf{1}(\\text{cal\\_yhats}_i \\neq \\text{cal\\_labels}_i)}{\\sum_{i : \\text{cal\\_phats}_i \\geq \\lambda} \\mathbf{1}}\n",
    "$$\n",
    "\n",
    "where:\n",
    "- $ \\mathbf{1}(\\text{cal\\_phats}_i \\geq \\lambda) $ is an indicator function that is 1 if $ \\text{cal\\_phats}_i \\geq \\lambda $ and 0 otherwise.\n",
    "- $ \\text{cal\\_yhats}_i $ is the predicted label for instance $ i $.\n",
    "- $ \\text{cal\\_labels}_i $ is the true label for instance $ i $.\n",
    "\n",
    "### 2. Number of Predictions Above Lambda\n",
    "The function $ \\text{nlambda}(\\lambda) $ counts the number of predictions where the confidence is greater than $ \\lambda $.\n",
    "\n",
    "$$\n",
    "\\text{nlambda}(\\lambda) = \\sum_{i : \\text{cal\\_phats}_i > \\lambda} 1\n",
    "$$\n",
    "\n",
    "### 3. Filtering Lambdas\n",
    "Ensure there are at least 30 data points for each candidate $ \\lambda $. This is done by filtering out $ \\lambda $ values that do not meet this criterion.\n",
    "\n",
    "$$\n",
    "\\text{Include } \\lambda \\text{ if } \\text{nlambda}(\\lambda) \\geq 30\n",
    "$$\n",
    "\n",
    "### 4. Invert for Upper Bound\n",
    "The function $ \\text{invert\\_for\\_ub}(r, \\lambda) $ finds the value $ r $ such that the cumulative distribution function (CDF) of a binomial distribution matches a target probability, adjusted by a small constant $ \\delta $.\n",
    "\n",
    "$$\n",
    "\\text{binom.cdf}(k, \\text{nlambda}(\\lambda), r) = \\delta\n",
    "$$\n",
    "\n",
    "where:\n",
    "\n",
    "$$\n",
    "k = \\text{selective\\_risk}(\\lambda) \\times \\text{nlambda}(\\lambda)\n",
    "$$\n",
    "\n",
    "### 5. Construct Upper Bound\n",
    "The function $ \\text{selective\\_risk\\_ub}(\\lambda) $ finds the upper bound for the selective risk given $ \\lambda $ by solving:\n",
    "\n",
    "$$\n",
    "\\text{selective\\_risk\\_ub}(\\lambda) = \\text{brentq}(\\text{invert\\_for\\_ub}, 0, 0.9999, \\text{args}=(\\lambda,))\n",
    "$$\n",
    "\n",
    "### 6. Choosing Lambda\n",
    "The algorithm selects the largest $ \\lambda $ for which the upper bound of the selective risk is acceptable:\n",
    "\n",
    "$$\n",
    "\\text{selective\\_risk\\_ub}(\\lambda - \\frac{1}{n}) \\leq \\alpha\n",
    "$$\n",
    "\n",
    "where $ n $ is the number of candidate $ \\lambda $ values, and $ \\alpha $ is the desired significance level.\n",
    "\n",
    "### 7. Deploy Procedure\n",
    "The final threshold $ \\hat{\\lambda} $ is used to make predictions on new data. Predictions are kept if their confidence is greater than or equal to $ \\hat{\\lambda} $.\n",
    "\n",
    "$$\n",
    "\\text{predictions\\_kept}_i = \n",
    "\\begin{cases} \n",
    "1 & \\text{if } \\text{val\\_phats}_i \\geq \\hat{\\lambda} \\\\\n",
    "0 & \\text{otherwise} \n",
    "\\end{cases}\n",
    "$$\n",
    "\n",
    "where $ \\text{val\\_phats}_i $ is the predicted probability for instance $ i $ in the validation set, and $ \\hat{\\lambda} $ is the chosen threshold.\n"
   ]
  },
  {
   "cell_type": "markdown",
   "metadata": {},
   "source": [
    "### Step 1: Write Import Statements"
   ]
  },
  {
   "cell_type": "code",
   "execution_count": 1,
   "metadata": {},
   "outputs": [],
   "source": [
    "import os\n",
    "import json\n",
    "import numpy as np\n",
    "import matplotlib.pyplot as plt\n",
    "from scipy.optimize import brentq\n",
    "from scipy.stats import binom\n",
    "import pandas as pd\n",
    "import xgboost as xgb\n",
    "import seaborn as sns\n",
    "import random\n",
    "from sklearn.model_selection import train_test_split\n",
    "!pip install -U --no-cache-dir gdown --pre"
   ]
  },
  {
   "cell_type": "markdown",
   "metadata": {},
   "source": [
    "### Step 2: Load and pre-process Dataset"
   ]
  },
  {
   "cell_type": "code",
   "execution_count": 2,
   "metadata": {},
   "outputs": [
    {
     "data": {
      "text/html": [
       "<div>\n",
       "<style scoped>\n",
       "    .dataframe tbody tr th:only-of-type {\n",
       "        vertical-align: middle;\n",
       "    }\n",
       "\n",
       "    .dataframe tbody tr th {\n",
       "        vertical-align: top;\n",
       "    }\n",
       "\n",
       "    .dataframe thead th {\n",
       "        text-align: right;\n",
       "    }\n",
       "</style>\n",
       "<table border=\"1\" class=\"dataframe\">\n",
       "  <thead>\n",
       "    <tr style=\"text-align: right;\">\n",
       "      <th></th>\n",
       "      <th>Age</th>\n",
       "      <th>Gender</th>\n",
       "      <th>AnnualIncome</th>\n",
       "      <th>NumberOfPurchases</th>\n",
       "      <th>ProductCategory</th>\n",
       "      <th>TimeSpentOnWebsite</th>\n",
       "      <th>LoyaltyProgram</th>\n",
       "      <th>DiscountsAvailed</th>\n",
       "      <th>PurchaseStatus</th>\n",
       "    </tr>\n",
       "  </thead>\n",
       "  <tbody>\n",
       "    <tr>\n",
       "      <th>0</th>\n",
       "      <td>40</td>\n",
       "      <td>1</td>\n",
       "      <td>66120.267939</td>\n",
       "      <td>8</td>\n",
       "      <td>0</td>\n",
       "      <td>30.568601</td>\n",
       "      <td>0</td>\n",
       "      <td>5</td>\n",
       "      <td>1</td>\n",
       "    </tr>\n",
       "    <tr>\n",
       "      <th>1</th>\n",
       "      <td>20</td>\n",
       "      <td>1</td>\n",
       "      <td>23579.773583</td>\n",
       "      <td>4</td>\n",
       "      <td>2</td>\n",
       "      <td>38.240097</td>\n",
       "      <td>0</td>\n",
       "      <td>5</td>\n",
       "      <td>0</td>\n",
       "    </tr>\n",
       "    <tr>\n",
       "      <th>2</th>\n",
       "      <td>27</td>\n",
       "      <td>1</td>\n",
       "      <td>127821.306432</td>\n",
       "      <td>11</td>\n",
       "      <td>2</td>\n",
       "      <td>31.633212</td>\n",
       "      <td>1</td>\n",
       "      <td>0</td>\n",
       "      <td>1</td>\n",
       "    </tr>\n",
       "    <tr>\n",
       "      <th>3</th>\n",
       "      <td>24</td>\n",
       "      <td>1</td>\n",
       "      <td>137798.623120</td>\n",
       "      <td>19</td>\n",
       "      <td>3</td>\n",
       "      <td>46.167059</td>\n",
       "      <td>0</td>\n",
       "      <td>4</td>\n",
       "      <td>1</td>\n",
       "    </tr>\n",
       "    <tr>\n",
       "      <th>4</th>\n",
       "      <td>31</td>\n",
       "      <td>1</td>\n",
       "      <td>99300.964220</td>\n",
       "      <td>19</td>\n",
       "      <td>1</td>\n",
       "      <td>19.823592</td>\n",
       "      <td>0</td>\n",
       "      <td>0</td>\n",
       "      <td>1</td>\n",
       "    </tr>\n",
       "  </tbody>\n",
       "</table>\n",
       "</div>"
      ],
      "text/plain": [
       "   Age  Gender   AnnualIncome  NumberOfPurchases  ProductCategory  \\\n",
       "0   40       1   66120.267939                  8                0   \n",
       "1   20       1   23579.773583                  4                2   \n",
       "2   27       1  127821.306432                 11                2   \n",
       "3   24       1  137798.623120                 19                3   \n",
       "4   31       1   99300.964220                 19                1   \n",
       "\n",
       "   TimeSpentOnWebsite  LoyaltyProgram  DiscountsAvailed  PurchaseStatus  \n",
       "0           30.568601               0                 5               1  \n",
       "1           38.240097               0                 5               0  \n",
       "2           31.633212               1                 0               1  \n",
       "3           46.167059               0                 4               1  \n",
       "4           19.823592               0                 0               1  "
      ]
     },
     "execution_count": 2,
     "metadata": {},
     "output_type": "execute_result"
    }
   ],
   "source": [
    "df=pd.read_csv(\"customer_purchase_data.csv\")\n",
    "X = df[['Age', 'Gender','AnnualIncome','NumberOfPurchases','ProductCategory','TimeSpentOnWebsite','LoyaltyProgram','DiscountsAvailed']]\n",
    "y = df['PurchaseStatus']\n",
    "df.head()"
   ]
  },
  {
   "cell_type": "code",
   "execution_count": 3,
   "metadata": {},
   "outputs": [],
   "source": [
    "X_train, X_test, y_train, y_test = train_test_split(X, y, test_size=0.4, random_state=42, shuffle=True)"
   ]
  },
  {
   "cell_type": "markdown",
   "metadata": {},
   "source": [
    "### Step 3: Train XGBoost Model and obtain score predictions"
   ]
  },
  {
   "cell_type": "code",
   "execution_count": 4,
   "metadata": {},
   "outputs": [],
   "source": [
    "model = xgb.XGBClassifier(\n",
    "    objective='binary:logistic',\n",
    "    max_depth=6,\n",
    "    learning_rate=0.1,\n",
    "    n_estimators=100,\n",
    "    eval_metric='mlogloss'\n",
    ")\n",
    "\n",
    "model.fit(X_train,y_train)\n",
    "preds=model.predict_proba(X_test)[:,1]\n",
    "preds=[[1-pred,pred] for pred in preds]\n",
    "labels=y_test"
   ]
  },
  {
   "cell_type": "markdown",
   "metadata": {},
   "source": [
    "### Step 4: Define $\\alpha$ value (desired Selective Accuracy) and $\\delta$ value (desired Failure Rate)"
   ]
  },
  {
   "cell_type": "code",
   "execution_count": 22,
   "metadata": {},
   "outputs": [],
   "source": [
    "alpha = 1-0.95\n",
    "delta = 0.75\n",
    "lambdas = np.linspace(0,1,1000)"
   ]
  },
  {
   "cell_type": "markdown",
   "metadata": {},
   "source": [
    "### Step 5: Selective accuracy control procedure"
   ]
  },
  {
   "cell_type": "code",
   "execution_count": 23,
   "metadata": {},
   "outputs": [],
   "source": [
    "cal_smx, val_smx, cal_labels, val_labels = train_test_split(preds, labels, test_size=0.2, random_state=42, shuffle=True)\n",
    "cal_smx=np.array(cal_smx)\n",
    "val_smx=np.array(val_smx)\n",
    "cal_labels=np.array(cal_labels)\n",
    "val_labels=np.array(val_labels)\n",
    "\n",
    "cal_yhats = np.argmax(cal_smx,axis=1)\n",
    "val_yhats = np.argmax(val_smx,axis=1)\n",
    "cal_phats = cal_smx.max(axis=1)\n",
    "val_phats = np.max(val_smx,axis=1)"
   ]
  },
  {
   "cell_type": "code",
   "execution_count": 29,
   "metadata": {},
   "outputs": [],
   "source": [
    "def selective_risk(lam): return (cal_yhats[cal_phats >= lam] != cal_labels[cal_phats >= lam]).sum()/(cal_phats >= lam).sum()\n",
    "\n",
    "def nlambda(lam): return (cal_phats > lam).sum()\n",
    "lambdas = np.array([lam for lam in lambdas if nlambda(lam) >= 30])\n",
    "\n",
    "def invert_for_ub(r,lam): return binom.cdf(selective_risk(lam)*nlambda(lam),nlambda(lam),r)-delta\n",
    "\n",
    "\n",
    "def selective_risk_ub(lam): return brentq(invert_for_ub,0,0.9999,args=(lam,))\n",
    "\n",
    "\n",
    "for lhat in np.flip(lambdas):\n",
    "    if selective_risk_ub(lhat-1/lambdas.shape[0]) > alpha: break\n",
    "\n",
    "predictions_kept = val_phats >= lhat"
   ]
  },
  {
   "cell_type": "markdown",
   "metadata": {},
   "source": [
    "### Step 6: Calculate relevant metrics"
   ]
  },
  {
   "cell_type": "code",
   "execution_count": 26,
   "metadata": {},
   "outputs": [
    {
     "name": "stdout",
     "output_type": "stream",
     "text": [
      "The empirical selective accuracy is: 0.9292035398230089\n",
      "The fraction of false flags is: 0.7142857142857143\n",
      "The fraction of data points kept is: 0.9416666666666667\n"
     ]
    }
   ],
   "source": [
    "empirical_selective_accuracy = (val_yhats[predictions_kept] == val_labels[predictions_kept]).mean()\n",
    "print(f\"The empirical selective accuracy is: {empirical_selective_accuracy}\")\n",
    "false_flags = (val_yhats[~predictions_kept] == val_labels[~predictions_kept]).mean()\n",
    "print(f\"The fraction of false flags is: {false_flags}\")\n",
    "fraction_kept = predictions_kept.mean()\n",
    "print(f\"The fraction of data points kept is: {fraction_kept}\")"
   ]
  },
  {
   "cell_type": "markdown",
   "metadata": {},
   "source": [
    "### Step 7: Obtain and analyse examples"
   ]
  },
  {
   "cell_type": "code",
   "execution_count": 27,
   "metadata": {},
   "outputs": [
    {
     "name": "stdout",
     "output_type": "stream",
     "text": [
      "Index: 178| Prediction: Class 0 | Label: Class 1 | Abstained: False\n",
      "Index: 20| Prediction: Class 1 | Label: Class 1 | Abstained: False\n",
      "Index: 400| Prediction: Class 0 | Label: Class 0 | Abstained: False\n",
      "Index: 487| Prediction: Class 1 | Label: Class 1 | Abstained: False\n",
      "Index: 221| Prediction: Class 1 | Label: Class 1 | Abstained: False\n",
      "Index: 297| Prediction: Class 0 | Label: Class 0 | Abstained: False\n",
      "Index: 262| Prediction: Class 0 | Label: Class 0 | Abstained: False\n",
      "Index: 64| Prediction: Class 1 | Label: Class 1 | Abstained: False\n",
      "Index: 389| Prediction: Class 0 | Label: Class 0 | Abstained: False\n",
      "Index: 252| Prediction: Class 0 | Label: Class 0 | Abstained: False\n",
      "Index: 102| Prediction: Class 1 | Label: Class 1 | Abstained: True\n",
      "Index: 403| Prediction: Class 0 | Label: Class 0 | Abstained: False\n",
      "Index: 115| Prediction: Class 1 | Label: Class 1 | Abstained: False\n",
      "Index: 442| Prediction: Class 0 | Label: Class 0 | Abstained: False\n",
      "Index: 146| Prediction: Class 0 | Label: Class 0 | Abstained: False\n",
      "Index: 209| Prediction: Class 1 | Label: Class 1 | Abstained: False\n",
      "Index: 104| Prediction: Class 0 | Label: Class 0 | Abstained: False\n",
      "Index: 472| Prediction: Class 1 | Label: Class 1 | Abstained: False\n",
      "Index: 274| Prediction: Class 0 | Label: Class 0 | Abstained: False\n",
      "Index: 488| Prediction: Class 1 | Label: Class 1 | Abstained: False\n"
     ]
    }
   ],
   "source": [
    "label_strings=['Class 0', 'Class 1']\n",
    "_keeps = []\n",
    "_yhats = []\n",
    "_labels = []\n",
    "indexs=[]\n",
    "labels=np.array(labels)\n",
    "for i in range(20):\n",
    "    index=random.randint(1,500)\n",
    "    indexs.append(index)\n",
    "    _keeps += [np.max(preds[index]) >= lhat]\n",
    "    _yhats += [label_strings[np.argmax(preds[index])]]\n",
    "    _labels += [label_strings[labels[index]]]        \n",
    "_keeps = np.array(_keeps); _yhats = np.array(_yhats); _labels = np.array(_labels);\n",
    "\n",
    "for i in range(20):\n",
    "    print(f\"Index: {indexs[i]}| Prediction: {_yhats[i]} | Label: {_labels[i]} | Abstained: {~_keeps[i]}\")"
   ]
  },
  {
   "cell_type": "markdown",
   "metadata": {},
   "source": [
    "### Step 8: Plot Fraction Kept vs Accuracy"
   ]
  },
  {
   "cell_type": "code",
   "execution_count": 28,
   "metadata": {},
   "outputs": [
    {
     "data": {
      "image/png": "[encoded data removed]",
      "text/plain": [
       "<Figure size 1000x300 with 1 Axes>"
      ]
     },
     "metadata": {},
     "output_type": "display_data"
    }
   ],
   "source": [
    "sns.set(style='white')\n",
    "selective_accuracy_curve = [1-selective_risk(lam) for lam in lambdas]\n",
    "fraction_kept_curve = [(val_phats >= lam).mean() for lam in lambdas]\n",
    "fig, axs = plt.subplots(1,figsize=(10,3))\n",
    "axs.plot(lambdas,selective_accuracy_curve,label='accuracy',linewidth=2)\n",
    "axs.plot(lambdas,fraction_kept_curve,label='fraction kept',linewidth=2)\n",
    "axs.axvline(x=lhat,linewidth=1.5,linestyle='--',label=r'$\\hat{\\lambda}$',color='gray')\n",
    "axs.axhline(y=1-alpha,linewidth=1.5,linestyle='dotted',label=r'$1-\\alpha$',color='gray')\n",
    "sns.despine(ax=axs,top=True,right=True)\n",
    "axs.legend(loc='lower left')\n",
    "axs.set_xlabel(r'$\\lambda$')\n",
    "true_nonabstention_idx = np.argmax( (_yhats == _labels) & (_keeps))"
   ]
  },
  {
   "cell_type": "markdown",
   "metadata": {},
   "source": [
    "## References\n",
    "\n",
    "1. Angelopoulos, Anastasios N, and Stephen Bates. (2021).  \"A gentle introduction to conformal prediction and distribution-free uncertainty quantification.\"\n",
    "2. Balasubramanian, Vineeth, Shen-Shyang Ho, and Vladimir Vovk, eds. Conformal prediction for reliable machine learning: theory, adaptations and applications. Newnes, 2014.\n",
    "3. Shafer, Glenn, and Vladimir Vovk. \"A tutorial on conformal prediction.\" Journal of Machine Learning Research 9.3 (2008)."
   ]
  }
 ],
 "metadata": {
  "kernelspec": {
   "display_name": "joao",
   "language": "python",
   "name": "python3"
  },
  "language_info": {
   "codemirror_mode": {
    "name": "ipython",
    "version": 3
   },
   "file_extension": ".py",
   "mimetype": "text/x-python",
   "name": "python",
   "nbconvert_exporter": "python",
   "pygments_lexer": "ipython3",
   "version": "3.7.16"
  }
 },
 "nbformat": 4,
 "nbformat_minor": 2
}
